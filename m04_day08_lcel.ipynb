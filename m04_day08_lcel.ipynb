{
 "cells": [
  {
   "cell_type": "code",
   "execution_count": 13,
   "id": "81c397fc",
   "metadata": {},
   "outputs": [],
   "source": [
    "from dotenv import load_dotenv\n",
    "import os\n",
    "from langchain_openai import ChatOpenAI\n",
    "from langchain_core.prompts import PromptTemplate"
   ]
  },
  {
   "cell_type": "code",
   "execution_count": 17,
   "id": "8daafdb7",
   "metadata": {},
   "outputs": [],
   "source": [
    "prompt = PromptTemplate.from_template('{topic}에 대해 쉽게 설명해주세요.')\n",
    "model = ChatOpenAI(model='gpt-4.1-nano', temperature=0.1)\n",
    "\n",
    "# LCEL 문법 - 체인 엮는다\n",
    "chain = prompt | model "
   ]
  },
  {
   "cell_type": "code",
   "execution_count": 18,
   "id": "ef09b39a",
   "metadata": {},
   "outputs": [
    {
     "data": {
      "text/plain": [
       "AIMessage(content=\"물론입니다! 인공지능 모델의 학습 원리를 쉽게 설명해 드릴게요.\\n\\n1. **데이터 수집**: 먼저, 인공지능이 배우기 위해 많은 예제(데이터)를 모아요. 예를 들어, 고양이 사진을 많이 보여주는 거죠.\\n\\n2. **모델 설계**: 그런 다음, 이 데이터를 이해하고 학습할 수 있도록 인공지능의 구조(모델)를 만듭니다. 이 구조는 사람의 뇌와 비슷하게 생각할 수 있어요.\\n\\n3. **학습 과정**:\\n   - 인공지능은 처음에는 아무것도 모르기 때문에, 데이터를 보고 예측을 해요.\\n   - 예를 들어, 사진이 고양이인지 아닌지 맞춰보는 거죠.\\n   - 그리고 정답(고양이 맞음 또는 아니오)을 알려줍니다.\\n   - 인공지능은 이 정답과 자신의 예측을 비교해서, 틀린 부분을 찾습니다.\\n\\n4. **오차 수정**:\\n   - 인공지능은 틀린 부분을 고치기 위해 내부의 '규칙'이나 '가중치'라는 값을 조정해요.\\n   - 이 과정을 반복하면서 점점 더 정확하게 예측할 수 있게 됩니다.\\n\\n5. **반복 학습**:\\n   - 여러 번 반복하면서, 인공지능은 더 많은 데이터를 보고, 더 잘 맞추도록 계속 개선돼요.\\n\\n**요약하자면**, 인공지능은 많은 데이터를 보고, 정답과 비교하며, 틀린 부분을 수정하는 과정을 반복해서 배우는 거예요. 이렇게 해서 점점 더 똑똑해지고, 새로운 문제도 해결할 수 있게 되는 것이죠!\", additional_kwargs={'refusal': None}, response_metadata={'token_usage': {'completion_tokens': 370, 'prompt_tokens': 21, 'total_tokens': 391, 'completion_tokens_details': {'accepted_prediction_tokens': 0, 'audio_tokens': 0, 'reasoning_tokens': 0, 'rejected_prediction_tokens': 0}, 'prompt_tokens_details': {'audio_tokens': 0, 'cached_tokens': 0}}, 'model_name': 'gpt-4.1-nano-2025-04-14', 'system_fingerprint': 'fp_38343a2f8f', 'id': 'chatcmpl-C19TapwbnNEzJzRvDDigGmWPuELBj', 'service_tier': 'default', 'finish_reason': 'stop', 'logprobs': None}, id='run--6d6a0a8e-e16d-497b-8ca4-dc5f1c9aa24c-0', usage_metadata={'input_tokens': 21, 'output_tokens': 370, 'total_tokens': 391, 'input_token_details': {'audio': 0, 'cache_read': 0}, 'output_token_details': {'audio': 0, 'reasoning': 0}})"
      ]
     },
     "execution_count": 18,
     "metadata": {},
     "output_type": "execute_result"
    }
   ],
   "source": [
    "input = {'topic':'인공지능 모델의 학습 원리'}\n",
    "\n",
    "chain.invoke(input)"
   ]
  },
  {
   "cell_type": "code",
   "execution_count": 19,
   "id": "ec4bfec6",
   "metadata": {},
   "outputs": [
    {
     "data": {
      "text/plain": [
       "'물론입니다! 인공지능 모델의 학습 원리를 쉽게 설명해 드릴게요.\\n\\n1. **데이터 수집**: 먼저, 인공지능이 배우기 위해 많은 예제(데이터)를 모아요. 예를 들어, 고양이 사진을 보여주거나, 문장을 읽게 하는 거죠.\\n\\n2. **모델 설계**: 그런 데이터를 이해하고 학습할 수 있도록 수학적인 구조(모델)를 만듭니다. 이 구조는 뇌의 신경망(뉴럴 네트워크)처럼 생겼어요.\\n\\n3. **학습 과정**:\\n   - **예측하기**: 모델은 처음에는 아무것도 몰라서 무작위로 예측을 해요.\\n   - **오차 계산**: 예측이 실제와 얼마나 다른지(오차)를 계산해요.\\n   - **수정하기**: 오차를 줄이기 위해 모델의 내부 값(가중치)을 조금씩 조정해요.\\n   \\n   이 과정을 수백, 수천 번 반복하면서 모델이 점점 더 정확하게 예측하게 되는 거예요.\\n\\n4. **검증과 개선**: 학습이 끝나면, 새로운 데이터로 테스트해서 잘 작동하는지 확인하고, 필요하면 더 개선해요.\\n\\n요약하자면, 인공지능은 많은 데이터를 보고, 예측을 하고, 틀린 부분을 수정하면서 점점 더 똑똑해지는 과정입니다. 이 과정을 통해 우리가 원하는 일을 잘 할 수 있게 되는 거죠!'"
      ]
     },
     "execution_count": 19,
     "metadata": {},
     "output_type": "execute_result"
    }
   ],
   "source": [
    "response = chain.invoke(input)\n",
    "response.content"
   ]
  },
  {
   "cell_type": "code",
   "execution_count": 20,
   "id": "4a4c0007",
   "metadata": {},
   "outputs": [
    {
     "name": "stdout",
     "output_type": "stream",
     "text": [
      "물론입니다! 인공지능 모델의 학습 원리를 쉽게 설명해 드릴게요.\n",
      "\n",
      "1. **데이터 수집**: 먼저, 인공지능이 배울 수 있도록 많은 예시(데이터)를 모아요. 예를 들어, 고양이 사진과 강아지 사진을 모으는 거죠.\n",
      "\n",
      "2. **모델 설계**: 그런 데이터를 이해하고 학습할 수 있는 '모델'이라는 수학적 구조를 만듭니다. 이 모델은 사람의 뇌와 비슷하게 정보를 처리하는 방식이에요.\n",
      "\n",
      "3. **학습 과정**:\n",
      "   - 모델은 처음에는 아무것도 모르기 때문에, 입력된 데이터를 보고 예측을 해요.\n",
      "   - 그리고 그 예측이 맞았는지 틀렸는지 알려주는 '정답'을 비교해요.\n",
      "   - 틀렸다면, 모델의 내부 값(파라미터)을 조금씩 수정해서 다음에는 더 잘 맞도록 해요. 이 과정을 '반복'하면서 점점 더 정확하게 학습하는 거죠.\n",
      "\n",
      "4. **손실 함수**: 예측이 얼마나 틀렸는지 측정하는 기준(손실 함수)을 사용해서, 모델이 얼마나 잘 하고 있는지 평가해요.\n",
      "\n",
      "5. **최적화**: 손실 값을 최소화하는 방향으로 모델의 내부 값을 조정하는 과정을 반복해서, 모델이 점점 더 정확한 예측을 할 수 있게 만들어요.\n",
      "\n",
      "6. **학습 완료**: 충분히 학습이 되면, 모델은 새로운 데이터에 대해서도 올바른 예측을 할 수 있게 돼요.\n",
      "\n",
      "쉽게 말하면, 인공지능은 많은 예시를 보고 '이것이 정답이다'라고 배우면서 점점 더 똑똑해지는 과정입니다!"
     ]
    }
   ],
   "source": [
    "# stream()\n",
    "answer = chain.stream(input)\n",
    "\n",
    "# 스트림 출력\n",
    "for token in answer:\n",
    "    print(token.content, end='', flush=True)"
   ]
  },
  {
   "cell_type": "code",
   "execution_count": 21,
   "id": "45664c87",
   "metadata": {},
   "outputs": [],
   "source": [
    "#LLM의 응답을 문자열로 변환하는 파서 -> StringOutputParser\n",
    "from langchain_core.output_parsers import StrOutputParser\n",
    "\n",
    "output_parser = StrOutputParser()"
   ]
  },
  {
   "cell_type": "code",
   "execution_count": 22,
   "id": "d31418a2",
   "metadata": {},
   "outputs": [],
   "source": [
    "# chain에 출력 파서 추가\n",
    "# 프룸프트 | 모델 | 출력 파서\n",
    "chain = prompt | model | output_parser"
   ]
  },
  {
   "cell_type": "code",
   "execution_count": 23,
   "id": "0e34a4a5",
   "metadata": {},
   "outputs": [
    {
     "data": {
      "text/plain": [
       "'물론이죠! K-pop이 인기 있는 이유를 쉽게 설명해 드릴게요.\\n\\n1. **멋진 춤과 노래**: K-pop 그룹들은 화려하고 잘 연습된 춤과 catchy한 노래를 선보여요. 그래서 듣거나 보면 쉽게 따라 하고 싶어져요.\\n\\n2. **매력적인 아이돌**: 아이돌들은 잘생기거나 예쁜 외모뿐만 아니라 친근하고 다정한 모습도 보여줘서 팬들이 좋아하게 돼요.\\n\\n3. **다양한 스타일과 콘셉트**: K-pop은 여러 가지 음악 장르와 스타일을 시도해서, 누구든 자신에게 맞는 그룹을 찾을 수 있어요.\\n\\n4. **팬과의 소통**: 아이돌들은 SNS나 팬미팅을 통해 팬들과 자주 소통하고, 팬들의 사랑에 감사하는 마음을 보여줘요. 그래서 팬들이 더 가까이 느끼게 돼요.\\n\\n5. **세계적인 확장**: K-pop은 한국뿐만 아니라 전 세계로 퍼져서, 다양한 나라의 사람들이 좋아하게 되었어요. 이로 인해 더 많은 사람들이 관심을 갖게 되었어요.\\n\\n이렇게 여러 가지 이유로 K-pop은 전 세계적으로 인기를 끌고 있어요!'"
      ]
     },
     "execution_count": 23,
     "metadata": {},
     "output_type": "execute_result"
    }
   ],
   "source": [
    "input = {'topic': 'K-pop의 인기요인'}\n",
    "chain.invoke(input)"
   ]
  },
  {
   "cell_type": "code",
   "execution_count": 25,
   "id": "80626a78",
   "metadata": {},
   "outputs": [
    {
     "name": "stdout",
     "output_type": "stream",
     "text": [
      "물론이죠! K-pop이 인기 있는 이유를 쉽게 설명해 드릴게요.\n",
      "\n",
      "1. **멋진 춤과 노래**: K-pop 그룹들은 화려하고 잘 연습된 춤과 노래를 선보여서 보는 재미가 있어요.\n",
      "\n",
      "2. **매력적인 아이돌**: 아이돌들은 친근하고 매력적인 모습으로 팬들과 소통하며 인기를 끌어요.\n",
      "\n",
      "3. **다양한 스타일과 콘셉트**: 매번 다른 콘셉트와 스타일로 새로운 모습을 보여줘서 지루하지 않아요.\n",
      "\n",
      "4. **팬과의 소통**: SNS와 팬미팅 등을 통해 팬들과 가까이 소통하며 사랑을 받습니다.\n",
      "\n",
      "5. **화려한 영상과 무대**: 뮤직비디오와 무대 연출이 뛰어나서 시각적으로도 즐거움을 줘요.\n",
      "\n",
      "이렇게 여러 가지 이유로 K-pop이 전 세계적으로 인기를 끌고 있어요!"
     ]
    }
   ],
   "source": [
    "answer = chain.stream(input)\n",
    "\n",
    "for token in answer:\n",
    "    print(token,end='',flush=True)"
   ]
  }
 ],
 "metadata": {
  "kernelspec": {
   "display_name": "my-langchain-project-Yk4c9PVD-py3.13",
   "language": "python",
   "name": "python3"
  },
  "language_info": {
   "codemirror_mode": {
    "name": "ipython",
    "version": 3
   },
   "file_extension": ".py",
   "mimetype": "text/x-python",
   "name": "python",
   "nbconvert_exporter": "python",
   "pygments_lexer": "ipython3",
   "version": "3.13.4"
  }
 },
 "nbformat": 4,
 "nbformat_minor": 5
}
