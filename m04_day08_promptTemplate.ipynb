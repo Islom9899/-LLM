{
 "cells": [
  {
   "cell_type": "code",
   "execution_count": 96,
   "id": "23fb2278",
   "metadata": {},
   "outputs": [
    {
     "data": {
      "text/plain": [
       "PromptTemplate(input_variables=['country'], input_types={}, partial_variables={}, template='{country}의 수도는 어디인가요?')"
      ]
     },
     "execution_count": 96,
     "metadata": {},
     "output_type": "execute_result"
    }
   ],
   "source": [
    "from langchain_core.prompts import PromptTemplate\n",
    "from langchain_openai import ChatOpenAI\n",
    "from langchain_core.output_parsers import StrOutputParser\n",
    "from dotenv import load_dotenv\n",
    "load_dotenv()\n",
    "\n",
    "template = '{country}의 수도는 어디인가요?'\n",
    "\n",
    "prompt_template = PromptTemplate.from_template(template)\n",
    "prompt_template"
   ]
  },
  {
   "cell_type": "code",
   "execution_count": 97,
   "id": "2b3afac0",
   "metadata": {},
   "outputs": [
    {
     "data": {
      "text/plain": [
       "'대한민국의 수도는 어디인가요?'"
      ]
     },
     "execution_count": 97,
     "metadata": {},
     "output_type": "execute_result"
    }
   ],
   "source": [
    "prompt1 = prompt_template.format(country = '대한민국')\n",
    "prompt1"
   ]
  },
  {
   "cell_type": "code",
   "execution_count": 98,
   "id": "70e32d4b",
   "metadata": {},
   "outputs": [
    {
     "data": {
      "text/plain": [
       "'미국의 수도는 어디인가요?'"
      ]
     },
     "execution_count": 98,
     "metadata": {},
     "output_type": "execute_result"
    }
   ],
   "source": [
    "prompt2 = prompt_template.format(country = '미국')\n",
    "prompt2"
   ]
  },
  {
   "cell_type": "code",
   "execution_count": 99,
   "id": "88772489",
   "metadata": {},
   "outputs": [],
   "source": [
    "# 템플릿을 변경하여 적용\n",
    "template = '''\n",
    "당신은 영어를 가르치는 10년차 영어 선생님입니다. 주어진 상황에 맞는 영어 회화를 작성해 주세요.\n",
    "양식은 [FORMAT]을 참고하여 작성해 주세요.\n",
    "\n",
    "#상황:\n",
    "{question}\n",
    "\n",
    "#FORMAT:\n",
    "- 영어 회화:\n",
    "- 한글 해석:\n",
    "'''\n",
    "\n",
    "# # 프롬프트 템플릿을 이용하여 프롬프트를 생성\n",
    "prompt = PromptTemplate.from_template(template)\n",
    "\n",
    "# ChatOpenAI 챗모델을 초기화\n",
    "model = ChatOpenAI(model_name='gpt-4.1-nano')\n",
    "\n",
    "# # 문자열 출력 파서를 초기화\n",
    "output_parser = StrOutputParser()\n",
    "\n",
    "# 체인의 구성\n",
    "chain = prompt | model | output_parser"
   ]
  },
  {
   "cell_type": "code",
   "execution_count": 100,
   "id": "873a0c99",
   "metadata": {},
   "outputs": [
    {
     "name": "stdout",
     "output_type": "stream",
     "text": [
      "- 영어 회화:  \n",
      "\"Hello, I’d like to order a table for one, please.\"  \n",
      "\"Could I see the menu, please?\"  \n",
      "\"I’d like to order the grilled chicken and a glass of water.\"  \n",
      "\"How much is the final bill?\"  \n",
      "\"Can I pay by credit card?\"  \n",
      "\n",
      "- 한글 해석:  \n",
      "\"안녕하세요, 저 혼자 자리 예약하고 싶어요.\"  \n",
      "\"메뉴판 주세요.\"  \n",
      "\"구운 치킨이랑 생수 한 잔 주문할게요.\"  \n",
      "\"최종 계산서가 얼마인가요?\"  \n",
      "\"신용카드로 결제해도 되나요?\"\n"
     ]
    }
   ],
   "source": [
    "print(chain.invoke({'question': '저는 식당에 가서 음식을 주문하고 싶어요.'}))"
   ]
  },
  {
   "cell_type": "code",
   "execution_count": 101,
   "id": "8924a63f",
   "metadata": {},
   "outputs": [
    {
     "name": "stdout",
     "output_type": "stream",
     "text": [
      "- 영어 회화:  \n",
      "**Customer:** Hi, I’d like to order a large pepperoni pizza for delivery, please.  \n",
      "**Employee:** Sure! Would you like any extra toppings or a drink with that?  \n",
      "**Customer:** Yes, please add mushrooms. Also, can I get a two-liter soda?  \n",
      "**Employee:** Certainly. Your total comes to $20.99. Can I have your address and phone number?  \n",
      "**Customer:** Yes, it’s 123 Maple Street, and my phone number is 555-1234.  \n",
      "**Employee:** Great! Your order will be delivered in about 30 minutes.  \n",
      "\n",
      "- 한글 해석:  \n",
      "**고객:** 안녕하세요, 대형 페퍼로니 피자 배달로 주문할게요.  \n",
      "**직원:** 네! 추가 토핑이나 음료도 같이 드릴까요?  \n",
      "**고객:** 네, 버섯을 추가해 주세요. 그리고 2리터 소다도 하나요.  \n",
      "**직원:** 알겠습니다. 총 금액은 $20.99입니다. 주소와 전화번호 알려주시겠어요?  \n",
      "**고객:** 네, 주소는 메이플 스트리트 123번지고요, 전화번호는 555-1234입니다.  \n",
      "**직원:** 좋아요! 주문하신 피자는 약 30분 후에 배달될 겁니다."
     ]
    }
   ],
   "source": [
    "# question 을 '미국에서 피자 주문'으로 설정하여 실행\n",
    "answer = chain.stream({'question':'미국에서 피자 주문'})\n",
    "# print(type(answer))\n",
    "for token in answer:\n",
    "    print(token, end='', flush=True)"
   ]
  },
  {
   "cell_type": "code",
   "execution_count": null,
   "id": "b6c69d33",
   "metadata": {},
   "outputs": [],
   "source": []
  }
 ],
 "metadata": {
  "kernelspec": {
   "display_name": "my-langchain-project-Yk4c9PVD-py3.13",
   "language": "python",
   "name": "python3"
  },
  "language_info": {
   "codemirror_mode": {
    "name": "ipython",
    "version": 3
   },
   "file_extension": ".py",
   "mimetype": "text/x-python",
   "name": "python",
   "nbconvert_exporter": "python",
   "pygments_lexer": "ipython3",
   "version": "3.13.4"
  }
 },
 "nbformat": 4,
 "nbformat_minor": 5
}
